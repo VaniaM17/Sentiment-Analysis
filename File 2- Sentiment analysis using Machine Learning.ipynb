{
 "cells": [
  {
   "cell_type": "markdown",
   "metadata": {},
   "source": [
    "## Sentiment Analysis of Amazon Reviews using Machine Learning"
   ]
  },
  {
   "cell_type": "markdown",
   "metadata": {},
   "source": [
    "#### Data Preparation and Analysis"
   ]
  },
  {
   "cell_type": "code",
   "execution_count": 1,
   "metadata": {},
   "outputs": [],
   "source": [
    "# Importing required libraries and packages:\n",
    "\n",
    "import pandas as pd\n",
    "import numpy as np\n",
    "import matplotlib.pyplot as plt\n",
    "import seaborn as sns\n",
    "import re\n",
    "import bz2\n",
    "import os\n",
    "import gc\n",
    "\n",
    "\n",
    "from nltk.classify import SklearnClassifier\n",
    " "
   ]
  },
  {
   "cell_type": "code",
   "execution_count": 2,
   "metadata": {},
   "outputs": [],
   "source": [
    "# Unzipping the compressed files in the dataset. It consists of 2 files, one is for training data and the other is for testing:\n",
    "train_data = bz2.BZ2File('train.ft.txt.bz2')\n",
    "test_data = bz2.BZ2File('test.ft.txt.bz2')"
   ]
  },
  {
   "cell_type": "code",
   "execution_count": 3,
   "metadata": {},
   "outputs": [],
   "source": [
    "# Reading the dataset:\n",
    "train_data_reviews = train_data.readlines()\n",
    "test_data_reviews = test_data.readlines()"
   ]
  },
  {
   "cell_type": "code",
   "execution_count": 4,
   "metadata": {
    "scrolled": true
   },
   "outputs": [],
   "source": [
    "#Reducing the number of lines for dataset\n",
    "train_lines_reduced = train_data_reviews[:99000]\n",
    "test_lines_reduced = test_data_reviews[:11000]"
   ]
  },
  {
   "cell_type": "code",
   "execution_count": 5,
   "metadata": {},
   "outputs": [
    {
     "name": "stdout",
     "output_type": "stream",
     "text": [
      "Number of Train data reviews: 99000\n",
      "Number of Test data reviews: 11000\n"
     ]
    }
   ],
   "source": [
    "# Converting from binary strings to strings that can be parsed and then determining the number of reviews in each file:\n",
    "train_lines_reduced = [x.decode('utf-8') for x in train_lines_reduced]\n",
    "test_lines_reduced = [x.decode('utf-8') for x in test_lines_reduced]\n",
    "print ('Number of Train data reviews:', len(train_lines_reduced))\n",
    "print ('Number of Test data reviews:', len(test_lines_reduced))"
   ]
  },
  {
   "cell_type": "markdown",
   "metadata": {},
   "source": [
    "Labels are the ratings people have given for the product, for instance, Lable 1 is 1-2 stars and label 2 is 4-5 stars. We can seperate the labels from the text so each can be analysed seperately. "
   ]
  },
  {
   "cell_type": "code",
   "execution_count": 6,
   "metadata": {},
   "outputs": [],
   "source": [
    "# From the labels we can determine the negative and positive reviews in datasets. Over here, labels are extracted and -1 is assigned for negative reviews and 1 for positive reviews\n",
    "train_labels = [-1 if x.split(' ')[0]=='__label__1' else 1 for x in train_lines_reduced]\n",
    "test_labels = [-1 if x.split(' ')[0]=='__label__1' else 1 for x in test_lines_reduced]"
   ]
  },
  {
   "cell_type": "markdown",
   "metadata": {},
   "source": [
    "**Visualization of labels**<br>\n",
    "We can visualize the freqeuncy of each label with the help of bar charts. Blue bar represents label 1 which has negative reviews, and orange represents label 2, positive reviews."
   ]
  },
  {
   "cell_type": "code",
   "execution_count": 7,
   "metadata": {},
   "outputs": [
    {
     "data": {
      "text/plain": [
       "Text(0.5, 1.0, 'Train labels distribution')"
      ]
     },
     "execution_count": 7,
     "metadata": {},
     "output_type": "execute_result"
    },
    {
     "data": {
      "image/png": "[encoded data removed]",
      "text/plain": [
       "<Figure size 432x288 with 1 Axes>"
      ]
     },
     "metadata": {
      "needs_background": "light"
     },
     "output_type": "display_data"
    }
   ],
   "source": [
    "#Graphs for data in train dataset\n",
    "sns.countplot(train_labels)\n",
    "plt.title('Train labels distribution')"
   ]
  },
  {
   "cell_type": "code",
   "execution_count": 8,
   "metadata": {},
   "outputs": [
    {
     "data": {
      "text/plain": [
       "Text(0.5, 1.0, 'Test label distribution')"
      ]
     },
     "execution_count": 8,
     "metadata": {},
     "output_type": "execute_result"
    },
    {
     "data": {
      "image/png": "[encoded data removed]",
      "text/plain": [
       "<Figure size 432x288 with 1 Axes>"
      ]
     },
     "metadata": {
      "needs_background": "light"
     },
     "output_type": "display_data"
    }
   ],
   "source": [
    "#Graph for data in test dataset\n",
    "sns.countplot(test_labels)\n",
    "plt.title('Test label distribution')"
   ]
  },
  {
   "cell_type": "code",
   "execution_count": 9,
   "metadata": {},
   "outputs": [],
   "source": [
    "# Now we can extract the text part, which is index 1 of the review.\n",
    "train_text = [x.split(' ', 1)[1][:-1]for x in train_lines_reduced]\n",
    "test_text = [x.split(' ', 1)[1][:-1] for x in test_lines_reduced]"
   ]
  },
  {
   "cell_type": "code",
   "execution_count": 10,
   "metadata": {},
   "outputs": [
    {
     "name": "stdout",
     "output_type": "stream",
     "text": [
      "Stuning even for the non-gamer: This sound track was beautiful! It paints the senery in your mind so well I would recomend it even to people who hate vid. game music! I have played the game Chrono Cross but out of all of the games I have ever played it has the best music! It backs away from crude keyboarding and takes a fresher step with grate guitars and soulful orchestras. It would impress anyone who cares to listen! ^_^\n",
      "The best soundtrack ever to anything.: I'm reading a lot of reviews saying that this is the best 'game soundtrack' and I figured that I'd write a review to disagree a bit. This in my opinino is Yasunori Mitsuda's ultimate masterpiece. The music is timeless and I'm been listening to it for years now and its beauty simply refuses to fade.The price tag on this is pretty staggering I must say, but if you are going to buy any cd for this much money, this is the only one that I feel would be worth every penny.\n"
     ]
    }
   ],
   "source": [
    "print (train_text[0])\n",
    "print (train_text[1])"
   ]
  },
  {
   "cell_type": "code",
   "execution_count": 11,
   "metadata": {},
   "outputs": [],
   "source": [
    "# To further understand the distribution of reviews, we can calculate the number of words in each review. \n",
    "#The table displays the lenght of the text along with its label and using this we can construct a box plot to visualise mean number of words for negative and positive reviews.\n",
    "train_text_length = list(map(lambda x: len(x.split()), train_text))\n",
    "train_label_length = pd.DataFrame({'labels': train_labels, 'len': train_text_length})\n",
    "neg_reviews = train_label_length.groupby('labels')['len'].mean().values[0]\n",
    "pos_reviews = train_label_length.groupby('labels')['len'].mean().values[1]"
   ]
  },
  {
   "cell_type": "code",
   "execution_count": 12,
   "metadata": {},
   "outputs": [
    {
     "data": {
      "image/png": "[encoded data removed]",
      "text/plain": [
       "<Figure size 432x288 with 1 Axes>"
      ]
     },
     "metadata": {
      "needs_background": "light"
     },
     "output_type": "display_data"
    }
   ],
   "source": [
    "#graphs showing number of positive and negative reviews\n",
    "sns.boxenplot(x='labels', y='len', data=train_label_length)\n",
    "plt.xlabel(\"Labels (-1 - negative, 1 - positive)\")\n",
    "plt.ylabel(\"Number of words in reviews\")\n",
    "plt.title(\"Review Size Categorization\")\n",
    "plt.show()"
   ]
  },
  {
   "cell_type": "markdown",
   "metadata": {},
   "source": [
    "### 1.Data Cleaning\n",
    "\n",
    "- Removing hyperlinks\n",
    "- Lower casing\n",
    "- Tokenization\n",
    "- Stemming and Lemmatization\n",
    "- Removing stopwords\n",
    "- Removing punctuation marks\n",
    "- Removing digits"
   ]
  },
  {
   "cell_type": "code",
   "execution_count": 13,
   "metadata": {},
   "outputs": [],
   "source": [
    "# Removing urls\n",
    "\n",
    "for i in range (len(train_text)):\n",
    "    if 'www.' in train_text[i] or 'http:' in train_text[i] or 'https:' in train_text[i] or '.com' in train_text[i]:\n",
    "        train_text[i] = re.sub(r\"([^ ]+(?<=\\.[a-z]{3}))\", \"<url>\", train_text[i])\n",
    "for i in range (len(test_text)):\n",
    "    if 'www.' in test_text[i] or 'http:' in test_text[i] or 'https:' in test_text[i] or '.com' in test_text[i]:\n",
    "        test_text[i] = re.sub(r\"([^ ]+(?<=\\.[a-z]{3}))\", \"<url>\", test_text[i])"
   ]
  },
  {
   "cell_type": "markdown",
   "metadata": {},
   "source": [
    "**Stemming and Lemmatization**\n",
    "\n",
    "The stemming and lemmatization process are used to find the root word.\n",
    "- Stemming: Trying to shorten a word with simple regex rules\n",
    "- Lemmatization: Trying to find the root word with linguistics rules (with the use of regexes)\n",
    "For example, \"eating\", \"eat\" will be changed to eat and considered as same word."
   ]
  },
  {
   "cell_type": "code",
   "execution_count": 14,
   "metadata": {},
   "outputs": [
    {
     "name": "stdout",
     "output_type": "stream",
     "text": [
      "[nltk_data] Downloading package averaged_perceptron_tagger to\n",
      "[nltk_data]     C:\\Users\\HP\\AppData\\Roaming\\nltk_data...\n",
      "[nltk_data]   Package averaged_perceptron_tagger is already up-to-\n",
      "[nltk_data]       date!\n",
      "[nltk_data] Downloading package punkt to\n",
      "[nltk_data]     C:\\Users\\HP\\AppData\\Roaming\\nltk_data...\n",
      "[nltk_data]   Package punkt is already up-to-date!\n",
      "[nltk_data] Downloading package wordnet to\n",
      "[nltk_data]     C:\\Users\\HP\\AppData\\Roaming\\nltk_data...\n",
      "[nltk_data]   Package wordnet is already up-to-date!\n"
     ]
    },
    {
     "data": {
      "text/plain": [
       "['she', 'be', 'eat', 'an', 'ice', 'cream']"
      ]
     },
     "execution_count": 14,
     "metadata": {},
     "output_type": "execute_result"
    }
   ],
   "source": [
    "#Stemming, lemmetization and tokenization using NLTK\n",
    "\n",
    "import nltk\n",
    "from nltk import pos_tag\n",
    "from nltk import sent_tokenize, word_tokenize\n",
    "from nltk.stem import WordNetLemmatizer\n",
    "from string import punctuation\n",
    "\n",
    "nltk.download('averaged_perceptron_tagger')\n",
    "nltk.download('punkt')\n",
    "nltk.download('wordnet')\n",
    "\n",
    "wnl = WordNetLemmatizer()\n",
    "\n",
    "def penn2morphy(penntag):\n",
    "    '''Converts Penn Treebank tags to WordNet.'''\n",
    "    morphy_tag = {'NN':'n', 'JJ':'a', 'VB': 'v', 'RB':'r'}\n",
    "    \n",
    "    try:\n",
    "        return morphy_tag[penntag[:2]]\n",
    "    except:\n",
    "        return 'n'\n",
    "\n",
    "def lemmatize_sent(text):\n",
    "    return[wnl.lemmatize(word.lower(), pos=penn2morphy(tag))\n",
    "          for word, tag in pos_tag(word_tokenize(text))]\n",
    "lemmatize_sent ('She is EATING an ice cream')"
   ]
  },
  {
   "cell_type": "code",
   "execution_count": 15,
   "metadata": {},
   "outputs": [
    {
     "name": "stdout",
     "output_type": "stream",
     "text": [
      "[nltk_data] Downloading package stopwords to\n",
      "[nltk_data]     C:\\Users\\HP\\AppData\\Roaming\\nltk_data...\n",
      "[nltk_data]   Package stopwords is already up-to-date!\n"
     ]
    }
   ],
   "source": [
    "# Removing stopwords and punctuation marks\n",
    "\n",
    "nltk.download('stopwords')\n",
    "from nltk.corpus import stopwords\n",
    "\n",
    "stopwords = set(stopwords.words('english'))\n",
    "punctuation = set(punctuation)\n",
    "stoppunct_combined = set.union(stopwords, punctuation)"
   ]
  },
  {
   "cell_type": "code",
   "execution_count": 16,
   "metadata": {},
   "outputs": [],
   "source": [
    "def preprocess_text(text):\n",
    "    return [word for word in lemmatize_sent(text)\n",
    "           if word not in stoppunct_combined\n",
    "           and not word.isdigit()]"
   ]
  },
  {
   "cell_type": "code",
   "execution_count": 17,
   "metadata": {},
   "outputs": [
    {
     "data": {
      "text/plain": [
       "['bad',\n",
       " 'complete',\n",
       " 'waste',\n",
       " 'time',\n",
       " 'typographical',\n",
       " 'error',\n",
       " 'poor',\n",
       " 'grammar',\n",
       " 'totally',\n",
       " 'pathetic',\n",
       " 'plot',\n",
       " 'add',\n",
       " 'absolutely',\n",
       " 'nothing',\n",
       " \"'m\",\n",
       " 'embarrassed',\n",
       " 'author',\n",
       " 'disappointed',\n",
       " 'actually',\n",
       " 'pay',\n",
       " 'book']"
      ]
     },
     "execution_count": 17,
     "metadata": {},
     "output_type": "execute_result"
    }
   ],
   "source": [
    "# result\n",
    "\n",
    "preprocess_text(train_text[10])"
   ]
  },
  {
   "cell_type": "markdown",
   "metadata": {},
   "source": [
    "### 2.Feature Extraction\n",
    "<br> This step consists of converting strings to vectors using sklearn CountVectorizer. Feature extraction technique based on word embeddings was done to create a Vector Space Model. This is an algebraic model that represents text as vectors of identifiers, such as index terms. The vector will be fed into the machine learning algorithm to generate a model."
   ]
  },
  {
   "cell_type": "code",
   "execution_count": 18,
   "metadata": {},
   "outputs": [],
   "source": [
    "from sklearn.feature_extraction.text import CountVectorizer"
   ]
  },
  {
   "cell_type": "code",
   "execution_count": 19,
   "metadata": {},
   "outputs": [],
   "source": [
    "count_vect = CountVectorizer(analyzer=preprocess_text)"
   ]
  },
  {
   "cell_type": "code",
   "execution_count": 20,
   "metadata": {},
   "outputs": [],
   "source": [
    "train_set = count_vect.fit_transform(train_text[:10000])"
   ]
  },
  {
   "cell_type": "code",
   "execution_count": 21,
   "metadata": {},
   "outputs": [
    {
     "data": {
      "text/plain": [
       "(10000, 33463)"
      ]
     },
     "execution_count": 21,
     "metadata": {},
     "output_type": "execute_result"
    }
   ],
   "source": [
    "train_set.toarray().shape"
   ]
  },
  {
   "cell_type": "code",
   "execution_count": 22,
   "metadata": {},
   "outputs": [],
   "source": [
    "test_set = count_vect.fit_transform(test_text[:1000])"
   ]
  },
  {
   "cell_type": "code",
   "execution_count": 23,
   "metadata": {},
   "outputs": [],
   "source": [
    "!pip install -q wordcloud\n",
    "import wordcloud as WordCloud"
   ]
  },
  {
   "cell_type": "code",
   "execution_count": 24,
   "metadata": {},
   "outputs": [
    {
     "name": "stdout",
     "output_type": "stream",
     "text": [
      "           Word  Frequency\n",
      "43        young       8390\n",
      "8          year       8372\n",
      "42        white       8210\n",
      "16         well       8173\n",
      "5         voice       8065\n",
      "24        vocal       8063\n",
      "86        video       8016\n",
      "97          use       7925\n",
      "67      trigger       7691\n",
      "82        track       7628\n",
      "49        thing       7469\n",
      "93         tear       7362\n",
      "20        sugar       7224\n",
      "26    stuunning       7184\n",
      "9         still       7103\n",
      "56  soundtracks       6956\n",
      "70   soundtrack       6955\n",
      "79         song       6918\n",
      "61        small       6854\n",
      "51         sing       6791\n"
     ]
    },
    {
     "data": {
      "image/png": "[encoded data removed]",
      "text/plain": [
       "<Figure size 432x288 with 1 Axes>"
      ]
     },
     "metadata": {
      "needs_background": "light"
     },
     "output_type": "display_data"
    }
   ],
   "source": [
    "#Creating a dataframe with words and their frequency.\n",
    "\n",
    "most_words = pd.DataFrame(count_vect.vocabulary_.items(), columns=['Word', 'Frequency'])[:100].sort_values(ascending=False, by = 'Frequency')[:20]\n",
    "print(most_words)\n",
    "mostwords_dict = most_words.set_index('Word').to_dict()\n",
    "\n",
    "# To visualise the freqeuncy of words, we can use wordcloud that arranges the words by size. From the generated word cloud we can see the most frequently occurring words are 'Young', 'Year' and 'White'.\n",
    "\n",
    "from wordcloud import WordCloud\n",
    "wordcloud = WordCloud(stopwords=stopwords).generate_from_frequencies(mostwords_dict['Frequency'])\n",
    "plt.imshow(wordcloud, interpolation='bilinear')\n",
    "plt.axis(\"off\")\n",
    "plt.savefig('wordcloud11.png')\n",
    "plt.show()"
   ]
  },
  {
   "cell_type": "markdown",
   "metadata": {},
   "source": [
    "### 3.Creating a Model\n",
    "<br> A model is created to classify the data according to the assigned labels. \n",
    "<br> Multinomial Naive Bayes classification uses Bayes's Theorem to predict the category of a text with strong independence assumptions between the features."
   ]
  },
  {
   "cell_type": "code",
   "execution_count": 25,
   "metadata": {},
   "outputs": [],
   "source": [
    "from sklearn.naive_bayes import MultinomialNB\n",
    "MB = MultinomialNB()"
   ]
  },
  {
   "cell_type": "code",
   "execution_count": 26,
   "metadata": {},
   "outputs": [
    {
     "data": {
      "text/plain": [
       "MultinomialNB(alpha=1.0, class_prior=None, fit_prior=True)"
      ]
     },
     "execution_count": 26,
     "metadata": {},
     "output_type": "execute_result"
    }
   ],
   "source": [
    "MB.fit(train_set, train_labels[:10000])"
   ]
  },
  {
   "cell_type": "code",
   "execution_count": 27,
   "metadata": {},
   "outputs": [
    {
     "data": {
      "text/plain": [
       "MultinomialNB(alpha=1.0, class_prior=None, fit_prior=True)"
      ]
     },
     "execution_count": 27,
     "metadata": {},
     "output_type": "execute_result"
    }
   ],
   "source": [
    "MB.fit(test_set, test_labels[:1000])"
   ]
  },
  {
   "cell_type": "markdown",
   "metadata": {},
   "source": [
    "### 4.Prediction and Evaluation"
   ]
  },
  {
   "cell_type": "code",
   "execution_count": 28,
   "metadata": {},
   "outputs": [
    {
     "name": "stdout",
     "output_type": "stream",
     "text": [
      "Confusion Matrix: [[49300  1400]\n",
      " [  500 48800]]\n",
      "Classification Report:               precision    recall  f1-score   support\n",
      "\n",
      "          -1       0.99      0.97      0.98       507\n",
      "           1       0.97      0.99      0.98       493\n",
      "\n",
      "    accuracy                           0.98      1000\n",
      "   macro avg       0.98      0.98      0.98      1000\n",
      "weighted avg       0.98      0.98      0.98      1000\n",
      "\n",
      "Accuracy score = 98.1\n"
     ]
    }
   ],
   "source": [
    "#Calculating the accuracy of the model used\n",
    "from sklearn.metrics import accuracy_score, classification_report, confusion_matrix\n",
    "predictions_valid = MB.predict(test_set)\n",
    "print('Confusion Matrix: {}'.format(confusion_matrix(predictions_valid, test_labels[:1000])*100))\n",
    "print('Classification Report: {}'.format(classification_report(predictions_valid, test_labels[:1000])))\n",
    "print('Accuracy score = {}'.format(accuracy_score(predictions_valid, test_labels[:1000])*100))"
   ]
  },
  {
   "cell_type": "code",
   "execution_count": null,
   "metadata": {},
   "outputs": [],
   "source": []
  }
 ],
 "metadata": {
  "kernelspec": {
   "display_name": "Python 3",
   "language": "python",
   "name": "python3"
  },
  "language_info": {
   "codemirror_mode": {
    "name": "ipython",
    "version": 3
   },
   "file_extension": ".py",
   "mimetype": "text/x-python",
   "name": "python",
   "nbconvert_exporter": "python",
   "pygments_lexer": "ipython3",
   "version": "3.8.5"
  }
 },
 "nbformat": 4,
 "nbformat_minor": 2
}
