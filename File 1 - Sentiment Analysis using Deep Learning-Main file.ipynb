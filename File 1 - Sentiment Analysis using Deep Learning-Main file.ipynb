{
 "cells": [
  {
   "cell_type": "markdown",
   "metadata": {},
   "source": [
    "# Sentiment Analysis of Amazon Reviews"
   ]
  },
  {
   "cell_type": "markdown",
   "metadata": {},
   "source": [
    "## Methodology"
   ]
  },
  {
   "cell_type": "markdown",
   "metadata": {},
   "source": [
    "1. Data cleaning\n",
    "2. Feature extraction\n",
    "3. Prediction model creation\n",
    "4. Visualization of results\n",
    "\n",
    "**Data Cleaning:**\n",
    "1. Make text lower case: The machine doesn't consider upper case and lower case text as same, therefore we have to convert all upper case to lower ones.\n",
    "2. Removing punctuations: Punctuations are source of noise in any data, so it is important to remove them all.\n",
    "3. Removing Urls: If the data has any URLs we have to remove them as well.\n",
    "\n",
    "**Feature Extraction:**\n",
    "All of the ratings of 1 & 0 are classified as \"0\" and postive ratings are classified as \"1\". Perform tokenization before using the data for predicition model.\n",
    "\n",
    "\n",
    "**Prediction Model Creation:**\n",
    "Create deep learning model using Keras API with tensorflow. Sequence processing through 1D-CNN.\n",
    "\n",
    "**Visualization**\n",
    "Confusion matrix and plots to understand the accuracy of predicted and trained data."
   ]
  },
  {
   "cell_type": "markdown",
   "metadata": {},
   "source": [
    "## Data set used"
   ]
  },
  {
   "cell_type": "markdown",
   "metadata": {},
   "source": [
    "The data used in this project was downloaded from Kaggle. It was uploded on Kaggle by Adam Bittlingmayer. This dataset consists of few million Amazon customer reviews and ratings. The neutral ratings and corresponding reviews were excluded from the trained dataset. This data set consist classes of negative reviews with ratings of 0 & 1 under \"label 1\" and positive reviews with ratings of 4 & 5 under \"label 2\". We have reduced the number down to 99000 for train lines and 11000 for test lines. This step was taken considering the working capacity of our laptops."
   ]
  },
  {
   "cell_type": "markdown",
   "metadata": {},
   "source": [
    "### Sentiment Analysis using Deep learning"
   ]
  },
  {
   "cell_type": "code",
   "execution_count": 44,
   "metadata": {},
   "outputs": [],
   "source": [
    "#import all of the libraries to beused\n",
    "import numpy as np \n",
    "import pandas as pd \n",
    "import matplotlib.pyplot as plt\n",
    "%matplotlib inline"
   ]
  },
  {
   "cell_type": "code",
   "execution_count": 46,
   "metadata": {},
   "outputs": [],
   "source": [
    "import re\n",
    "from tqdm import tqdm\n",
    "from sklearn.utils import shuffle\n",
    "import bz2\n",
    "from keras.layers import *\n",
    "from keras.models import Model, Sequential\n",
    "from keras.preprocessing.text import Tokenizer\n",
    "from keras.preprocessing.sequence import pad_sequences"
   ]
  },
  {
   "cell_type": "code",
   "execution_count": 47,
   "metadata": {},
   "outputs": [],
   "source": [
    "from sklearn.metrics import precision_recall_fscore_support,accuracy_score"
   ]
  },
  {
   "cell_type": "code",
   "execution_count": 45,
   "metadata": {},
   "outputs": [
    {
     "data": {
      "text/plain": [
       "'.ipynb_checkpoints'"
      ]
     },
     "execution_count": 45,
     "metadata": {},
     "output_type": "execute_result"
    }
   ],
   "source": [
    "#Give path to the datasets from your device\n",
    "import os\n",
    "data = os.listdir(\"C:/Users/bcs12/Downloads/3dr semester/Data Science/Project/data\")\n",
    "data[0]"
   ]
  },
  {
   "cell_type": "markdown",
   "metadata": {},
   "source": [
    "**Splitting our data into Reviews and labels**"
   ]
  },
  {
   "cell_type": "code",
   "execution_count": 48,
   "metadata": {},
   "outputs": [],
   "source": [
    "#splitting the reviews and labels in each line\n",
    "def splitReviewsLabels(lines):\n",
    "    reviews = []\n",
    "    labels = []\n",
    "    for review in tqdm(lines):\n",
    "        rev = reviewToX(review)\n",
    "        label = reviewToY(review)\n",
    "        reviews.append(rev[:512])\n",
    "        labels.append(label)\n",
    "    return reviews, labels"
   ]
  },
  {
   "cell_type": "code",
   "execution_count": 49,
   "metadata": {},
   "outputs": [],
   "source": [
    "AMAZON_REVIEW_DIR = 'C:/Users/bcs12/Downloads/3dr semester/Data Science/Project/data'"
   ]
  },
  {
   "cell_type": "markdown",
   "metadata": {},
   "source": [
    "**Extracting label from the data**<br>\n",
    "\"0\" in case of 1 & 2 rating<br>\n",
    "\"1\" in case of 4 & 5 rating"
   ]
  },
  {
   "cell_type": "code",
   "execution_count": 50,
   "metadata": {},
   "outputs": [],
   "source": [
    "#Assigning 0 for negative reviews & 1 for positive reviews\n",
    "def reviewToY(review):\n",
    "    return [1,0] if review.split(' ')[0] == '__label__1' else [0,1]"
   ]
  },
  {
   "cell_type": "markdown",
   "metadata": {},
   "source": [
    "**Extracting reviews from the data**<br>\n",
    "**Data cleaning is also done in this process**"
   ]
  },
  {
   "cell_type": "code",
   "execution_count": 51,
   "metadata": {},
   "outputs": [],
   "source": [
    "#data cleaning is done in this step, converting into lower case,removal of url & punctuation mark\n",
    "def reviewToX(review):\n",
    "    review = review.split(' ', 1)[1][:-1].lower()\n",
    "    review = re.sub('\\d','0',review)\n",
    "    if 'www.' in review or 'http:' in review or 'https:' in review or '.com' in review:\n",
    "        review = re.sub(r\"([^ ]+(?<=\\.[a-z]{3}))\", \"<url>\", review)\n",
    "    return review"
   ]
  },
  {
   "cell_type": "code",
   "execution_count": 52,
   "metadata": {},
   "outputs": [],
   "source": [
    "#Upload the datasets from your device using the corresponding path\n",
    "train_file = bz2.BZ2File(os.path.join(AMAZON_REVIEW_DIR, 'train.ft.txt.bz2'))\n",
    "test_file = bz2.BZ2File(os.path.join(AMAZON_REVIEW_DIR,'test.ft.txt.bz2'))\n"
   ]
  },
  {
   "cell_type": "code",
   "execution_count": 53,
   "metadata": {},
   "outputs": [],
   "source": [
    "#Read lines from given dataset\n",
    "train_lines = train_file.readlines()\n",
    "test_lines = test_file.readlines()"
   ]
  },
  {
   "cell_type": "code",
   "execution_count": 12,
   "metadata": {},
   "outputs": [],
   "source": [
    "#reduce the lines for the given data set\n",
    "train_lines_reduced = train_lines[0:99000]\n",
    "test_lines_reduced = test_lines[0:11000]"
   ]
  },
  {
   "cell_type": "markdown",
   "metadata": {},
   "source": [
    "**Convert from raw binary strings to strings that can be parsed**"
   ]
  },
  {
   "cell_type": "code",
   "execution_count": 14,
   "metadata": {},
   "outputs": [],
   "source": [
    "#converting the binary strings to the type of strings that can be parsed\n",
    "train_lines_reduced = [x.decode('utf-8') for x in train_lines_reduced]\n",
    "test_lines_reduced = [x.decode('utf-8') for x in test_lines_reduced]"
   ]
  },
  {
   "cell_type": "code",
   "execution_count": 15,
   "metadata": {},
   "outputs": [
    {
     "name": "stderr",
     "output_type": "stream",
     "text": [
      "100%|█████████████████████████████████████████████████████████████████████████| 99000/99000 [00:02<00:00, 45887.10it/s]\n",
      "100%|█████████████████████████████████████████████████████████████████████████| 11000/11000 [00:00<00:00, 70023.36it/s]\n"
     ]
    }
   ],
   "source": [
    "#spillting and arranging the reviews\n",
    "reviews_train, y_train = splitReviewsLabels(train_lines_reduced)\n",
    "reviews_test, y_test = splitReviewsLabels(test_lines_reduced)"
   ]
  },
  {
   "cell_type": "code",
   "execution_count": 16,
   "metadata": {},
   "outputs": [],
   "source": [
    "reviews_train, y_train = shuffle(reviews_train, y_train)\n",
    "reviews_test, y_test = shuffle(reviews_test, y_test)"
   ]
  },
  {
   "cell_type": "code",
   "execution_count": 17,
   "metadata": {},
   "outputs": [],
   "source": [
    "y_train = np.array(y_train)\n",
    "y_test = np.array(y_test)"
   ]
  },
  {
   "cell_type": "markdown",
   "metadata": {},
   "source": [
    "**Tokenization**<br>\n",
    "In this step, sentences are converted into words which can further be used by the prediction model."
   ]
  },
  {
   "cell_type": "code",
   "execution_count": 18,
   "metadata": {},
   "outputs": [],
   "source": [
    "#Defining parameters for the process of tokenization\n",
    "max_features = 8192\n",
    "maxlen = 128\n",
    "embed_size = 64"
   ]
  },
  {
   "cell_type": "code",
   "execution_count": 19,
   "metadata": {},
   "outputs": [],
   "source": [
    "tokenizer = Tokenizer(num_words=max_features)"
   ]
  },
  {
   "cell_type": "code",
   "execution_count": 20,
   "metadata": {},
   "outputs": [],
   "source": [
    "tokenizer.fit_on_texts(reviews_train)"
   ]
  },
  {
   "cell_type": "code",
   "execution_count": 21,
   "metadata": {},
   "outputs": [],
   "source": [
    "#converting the texts into the form of bytes\n",
    "import pickle\n",
    "with open('tokenizer_convo_sentiment.pickle','wb') as handle:\n",
    "    pickle.dump(tokenizer,handle,protocol=pickle.HIGHEST_PROTOCOL)"
   ]
  },
  {
   "cell_type": "code",
   "execution_count": 22,
   "metadata": {},
   "outputs": [],
   "source": [
    "token_train = tokenizer.texts_to_sequences(reviews_train)\n",
    "token_test = tokenizer.texts_to_sequences(reviews_test)"
   ]
  },
  {
   "cell_type": "code",
   "execution_count": 23,
   "metadata": {},
   "outputs": [],
   "source": [
    "#making all of the sequences of the same length\n",
    "x_train = pad_sequences(token_train, maxlen=maxlen, padding='post')\n",
    "x_test = pad_sequences(token_test, maxlen=maxlen, padding='post')"
   ]
  },
  {
   "cell_type": "markdown",
   "metadata": {},
   "source": [
    "**Prediction Model**<br>\n",
    "1D-CNN method for the sentiment analysis of given data set."
   ]
  },
  {
   "cell_type": "code",
   "execution_count": 24,
   "metadata": {},
   "outputs": [],
   "source": [
    "#Implementing 1D-CNN method to the trained set of data\n",
    "input = Input(shape=(maxlen,))\n",
    "net = Embedding(max_features, embed_size)(input)\n",
    "net = Dropout(0.2)(net)\n",
    "net = BatchNormalization()(net)\n",
    "\n",
    "net = Conv1D(32, 7, padding='same', activation='relu')(net)\n",
    "net = BatchNormalization()(net)\n",
    "net = Conv1D(32, 3, padding='same', activation='relu')(net)\n",
    "net = BatchNormalization()(net)\n",
    "net = Conv1D(32, 3, padding='same', activation='relu')(net)\n",
    "net = BatchNormalization()(net)\n",
    "net = Conv1D(32, 3, padding='same', activation='relu')(net)\n",
    "net1 = BatchNormalization()(net)\n",
    "\n",
    "net = Conv1D(2, 1)(net)\n",
    "net = GlobalAveragePooling1D()(net)\n",
    "output = Activation('softmax')(net)\n",
    "model = Model(inputs = input, outputs = output)\n",
    "model.compile(optimizer='adam', loss='categorical_crossentropy', metrics=['acc'])"
   ]
  },
  {
   "cell_type": "code",
   "execution_count": 25,
   "metadata": {
    "scrolled": true
   },
   "outputs": [
    {
     "name": "stdout",
     "output_type": "stream",
     "text": [
      "Model: \"functional_1\"\n",
      "_________________________________________________________________\n",
      "Layer (type)                 Output Shape              Param #   \n",
      "=================================================================\n",
      "input_1 (InputLayer)         [(None, 128)]             0         \n",
      "_________________________________________________________________\n",
      "embedding (Embedding)        (None, 128, 64)           524288    \n",
      "_________________________________________________________________\n",
      "dropout (Dropout)            (None, 128, 64)           0         \n",
      "_________________________________________________________________\n",
      "batch_normalization (BatchNo (None, 128, 64)           256       \n",
      "_________________________________________________________________\n",
      "conv1d (Conv1D)              (None, 128, 32)           14368     \n",
      "_________________________________________________________________\n",
      "batch_normalization_1 (Batch (None, 128, 32)           128       \n",
      "_________________________________________________________________\n",
      "conv1d_1 (Conv1D)            (None, 128, 32)           3104      \n",
      "_________________________________________________________________\n",
      "batch_normalization_2 (Batch (None, 128, 32)           128       \n",
      "_________________________________________________________________\n",
      "conv1d_2 (Conv1D)            (None, 128, 32)           3104      \n",
      "_________________________________________________________________\n",
      "batch_normalization_3 (Batch (None, 128, 32)           128       \n",
      "_________________________________________________________________\n",
      "conv1d_3 (Conv1D)            (None, 128, 32)           3104      \n",
      "_________________________________________________________________\n",
      "conv1d_4 (Conv1D)            (None, 128, 2)            66        \n",
      "_________________________________________________________________\n",
      "global_average_pooling1d (Gl (None, 2)                 0         \n",
      "_________________________________________________________________\n",
      "activation (Activation)      (None, 2)                 0         \n",
      "=================================================================\n",
      "Total params: 548,674\n",
      "Trainable params: 548,354\n",
      "Non-trainable params: 320\n",
      "_________________________________________________________________\n"
     ]
    }
   ],
   "source": [
    "model.summary()"
   ]
  },
  {
   "cell_type": "code",
   "execution_count": 26,
   "metadata": {},
   "outputs": [
    {
     "name": "stdout",
     "output_type": "stream",
     "text": [
      "Epoch 1/10\n",
      "697/697 [==============================] - 122s 175ms/step - loss: 0.2954 - acc: 0.8743 - val_loss: 0.2391 - val_acc: 0.9070\n",
      "Epoch 2/10\n",
      "697/697 [==============================] - 118s 169ms/step - loss: 0.1871 - acc: 0.9274 - val_loss: 0.2408 - val_acc: 0.9015\n",
      "Epoch 3/10\n",
      "697/697 [==============================] - 121s 174ms/step - loss: 0.1427 - acc: 0.9462 - val_loss: 0.3065 - val_acc: 0.8936\n",
      "Epoch 4/10\n",
      "697/697 [==============================] - 120s 173ms/step - loss: 0.1029 - acc: 0.9625 - val_loss: 0.3460 - val_acc: 0.8837\n",
      "Epoch 5/10\n",
      "697/697 [==============================] - 119s 170ms/step - loss: 0.0765 - acc: 0.9726 - val_loss: 0.3494 - val_acc: 0.8972\n",
      "Epoch 6/10\n",
      "697/697 [==============================] - 121s 174ms/step - loss: 0.0600 - acc: 0.9784 - val_loss: 0.4189 - val_acc: 0.8972\n",
      "Epoch 7/10\n",
      "697/697 [==============================] - 118s 169ms/step - loss: 0.0474 - acc: 0.9830 - val_loss: 0.4430 - val_acc: 0.8969\n",
      "Epoch 8/10\n",
      "697/697 [==============================] - 119s 171ms/step - loss: 0.0409 - acc: 0.9854 - val_loss: 0.4828 - val_acc: 0.8914\n",
      "Epoch 9/10\n",
      "697/697 [==============================] - 119s 171ms/step - loss: 0.0351 - acc: 0.9881 - val_loss: 0.5716 - val_acc: 0.8947\n",
      "Epoch 10/10\n",
      "697/697 [==============================] - 119s 171ms/step - loss: 0.0350 - acc: 0.9874 - val_loss: 0.4780 - val_acc: 0.8954\n"
     ]
    }
   ],
   "source": [
    "#execting the corresponding model for 10 epochs\n",
    "history = model.fit(x_train, y_train, batch_size=128, epochs=10, validation_split=0.1)"
   ]
  },
  {
   "cell_type": "code",
   "execution_count": 27,
   "metadata": {},
   "outputs": [
    {
     "name": "stdout",
     "output_type": "stream",
     "text": [
      "344/344 [==============================] - 2s 7ms/step - loss: 0.4622 - acc: 0.8999\n",
      "Test set\n",
      "  Loss: 46.2%\n",
      "  Accuracy: 90.0%\n"
     ]
    }
   ],
   "source": [
    "#calculating the accuracy of the given model\n",
    "accuracy = model.evaluate (x_test, y_test)\n",
    "print('Test set\\n  Loss: {:0.1f}%\\n  Accuracy: {:0.1f}%'.format(accuracy[0]*100,accuracy[1]*100))"
   ]
  },
  {
   "cell_type": "markdown",
   "metadata": {},
   "source": [
    "**Result:**<br>\n",
    "The accuracy of this model is **90%** and the loss is calculated to be **46.2%**."
   ]
  },
  {
   "cell_type": "markdown",
   "metadata": {},
   "source": [
    "**Visulatization of Results**"
   ]
  },
  {
   "cell_type": "code",
   "execution_count": 29,
   "metadata": {},
   "outputs": [
    {
     "name": "stdout",
     "output_type": "stream",
     "text": [
      "dict_keys(['loss', 'acc', 'val_loss', 'val_acc'])\n"
     ]
    },
    {
     "data": {
      "image/png": "[encoded data removed]",
      "text/plain": [
       "<Figure size 432x288 with 1 Axes>"
      ]
     },
     "metadata": {
      "needs_background": "light"
     },
     "output_type": "display_data"
    },
    {
     "data": {
      "image/png": "[encoded data removed]",
      "text/plain": [
       "<Figure size 432x288 with 1 Axes>"
      ]
     },
     "metadata": {
      "needs_background": "light"
     },
     "output_type": "display_data"
    }
   ],
   "source": [
    "#printing the graphs for accuracy and losses against epochs\n",
    "print(history.history.keys())\n",
    "#  \"Accuracy\"\n",
    "plt.plot(history.history['acc'])\n",
    "plt.plot(history.history['val_acc'])\n",
    "plt.title('model accuracy')\n",
    "plt.ylabel('accuracy')\n",
    "plt.xlabel('epoch')\n",
    "plt.legend(['train', 'validation'], loc='upper left')\n",
    "plt.grid()\n",
    "plt.show()\n",
    "# \"Loss\"\n",
    "plt.plot(history.history['loss'])\n",
    "plt.plot(history.history['val_loss'])\n",
    "plt.title('model loss')\n",
    "plt.ylabel('loss')\n",
    "plt.xlabel('epoch')\n",
    "plt.legend(['train', 'validation'], loc='upper left')\n",
    "plt.grid()\n",
    "plt.show()"
   ]
  },
  {
   "cell_type": "code",
   "execution_count": null,
   "metadata": {},
   "outputs": [],
   "source": []
  }
 ],
 "metadata": {
  "kernelspec": {
   "display_name": "Python 3",
   "language": "python",
   "name": "python3"
  },
  "language_info": {
   "codemirror_mode": {
    "name": "ipython",
    "version": 3
   },
   "file_extension": ".py",
   "mimetype": "text/x-python",
   "name": "python",
   "nbconvert_exporter": "python",
   "pygments_lexer": "ipython3",
   "version": "3.8.5"
  }
 },
 "nbformat": 4,
 "nbformat_minor": 4
}
